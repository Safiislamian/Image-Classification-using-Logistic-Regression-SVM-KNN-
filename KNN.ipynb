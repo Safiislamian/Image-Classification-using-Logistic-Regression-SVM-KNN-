{
 "cells": [
  {
   "cell_type": "code",
   "execution_count": 1,
   "id": "aa6a377b",
   "metadata": {},
   "outputs": [],
   "source": [
    "# Importing the important libraries"
   ]
  },
  {
   "cell_type": "code",
   "execution_count": 2,
   "id": "1d0ca46f",
   "metadata": {},
   "outputs": [],
   "source": [
    "import numpy as np\n",
    "import pandas as pd\n",
    "import matplotlib.pyplot as plt"
   ]
  },
  {
   "cell_type": "code",
   "execution_count": 3,
   "id": "a875097a",
   "metadata": {},
   "outputs": [],
   "source": [
    "# Importing the dataset"
   ]
  },
  {
   "cell_type": "code",
   "execution_count": 5,
   "id": "695a9961",
   "metadata": {},
   "outputs": [],
   "source": [
    "data = pd.read_csv('social_network_ads(LR).csv')"
   ]
  },
  {
   "cell_type": "code",
   "execution_count": 6,
   "id": "bf82cb93",
   "metadata": {},
   "outputs": [],
   "source": [
    "# Spliting the data into X(indepedent) and Y(depandent) sets"
   ]
  },
  {
   "cell_type": "code",
   "execution_count": 7,
   "id": "a23808f9",
   "metadata": {},
   "outputs": [],
   "source": [
    "X = data.iloc[:, 0:2]\n",
    "y = data.iloc[:, -1]"
   ]
  },
  {
   "cell_type": "code",
   "execution_count": 17,
   "id": "c98e7f1b",
   "metadata": {},
   "outputs": [
    {
     "name": "stdout",
     "output_type": "stream",
     "text": [
      "     Age  EstimatedSalary\n",
      "0     19            19000\n",
      "1     35            20000\n",
      "2     26            43000\n",
      "3     27            57000\n",
      "4     19            76000\n",
      "..   ...              ...\n",
      "395   46            41000\n",
      "396   51            23000\n",
      "397   50            20000\n",
      "398   36            33000\n",
      "399   49            36000\n",
      "\n",
      "[400 rows x 2 columns]\n"
     ]
    }
   ],
   "source": [
    "print(X)"
   ]
  },
  {
   "cell_type": "code",
   "execution_count": 8,
   "id": "b3b3c854",
   "metadata": {},
   "outputs": [
    {
     "name": "stdout",
     "output_type": "stream",
     "text": [
      "0      0\n",
      "1      0\n",
      "2      0\n",
      "3      0\n",
      "4      0\n",
      "      ..\n",
      "395    1\n",
      "396    1\n",
      "397    1\n",
      "398    0\n",
      "399    1\n",
      "Name: Purchased, Length: 400, dtype: int64\n"
     ]
    }
   ],
   "source": [
    "print(y)"
   ]
  },
  {
   "cell_type": "code",
   "execution_count": 9,
   "id": "d56e10f9",
   "metadata": {},
   "outputs": [],
   "source": [
    "# Spliting the data into traing and testing sets"
   ]
  },
  {
   "cell_type": "code",
   "execution_count": 12,
   "id": "8e651bd5",
   "metadata": {},
   "outputs": [],
   "source": [
    "from sklearn.model_selection import train_test_split\n",
    "X_train, X_test, y_tain, y_test = train_test_split(X, y, test_size = 0.2, random_state = 0)"
   ]
  },
  {
   "cell_type": "code",
   "execution_count": 13,
   "id": "cef4d295",
   "metadata": {},
   "outputs": [],
   "source": [
    "# Now applying the standard Scaler"
   ]
  },
  {
   "cell_type": "code",
   "execution_count": 14,
   "id": "3f5c473e",
   "metadata": {},
   "outputs": [],
   "source": [
    "from sklearn.preprocessing import StandardScaler\n",
    "scaler_x = StandardScaler()\n",
    "X_trian = scaler_x.fit_transform(X_train)\n",
    "X_test = scaler_x.fit_transform(X_test)"
   ]
  },
  {
   "cell_type": "code",
   "execution_count": 15,
   "id": "2cefc38a",
   "metadata": {},
   "outputs": [
    {
     "name": "stdout",
     "output_type": "stream",
     "text": [
      "     Age  EstimatedSalary\n",
      "336   58           144000\n",
      "64    59            83000\n",
      "55    24            55000\n",
      "106   26            35000\n",
      "300   58            38000\n",
      "..   ...              ...\n",
      "323   48            30000\n",
      "192   29            43000\n",
      "117   36            52000\n",
      "47    27            54000\n",
      "172   26           118000\n",
      "\n",
      "[320 rows x 2 columns]\n"
     ]
    }
   ],
   "source": [
    "print(X_train)"
   ]
  },
  {
   "cell_type": "code",
   "execution_count": 18,
   "id": "3f958bcc",
   "metadata": {},
   "outputs": [
    {
     "name": "stdout",
     "output_type": "stream",
     "text": [
      "[[-0.49618606  0.56021375]\n",
      " [ 0.2389044  -0.59133674]\n",
      " [-0.03675452  0.18673792]\n",
      " [-0.49618606  0.31122986]\n",
      " [-0.03675452 -0.59133674]\n",
      " [-0.77184498 -1.52502632]\n",
      " [-0.40429975 -1.68064126]\n",
      " [ 0.05513178  2.33422397]\n",
      " [-1.59882175 -0.03112299]\n",
      " [ 1.06588117 -0.80919764]\n",
      " [-0.49618606 -0.62245972]\n",
      " [-0.67995868 -0.43572181]\n",
      " [ 0.14701809 -0.43572181]\n",
      " [ 0.33079071  0.24898389]\n",
      " [-1.41504914  0.52909077]\n",
      " [-0.31241345  1.49390334]\n",
      " [ 0.14701809  0.24898389]\n",
      " [-1.50693545  0.49796778]\n",
      " [ 1.80097163  1.89850216]\n",
      " [-0.03675452 -1.46278035]\n",
      " [-0.03675452 -0.6847057 ]\n",
      " [ 1.06588117  2.33422397]\n",
      " [ 0.51456332 -0.56021375]\n",
      " [ 1.06588117  1.1204275 ]\n",
      " [-1.13939022 -1.27604243]\n",
      " [ 1.24965379  2.24085501]\n",
      " [-0.67995868  0.56021375]\n",
      " [-0.58807237  0.34235285]\n",
      " [ 0.14701809 -0.2178609 ]\n",
      " [-0.31241345  0.52909077]\n",
      " [-1.32316283  0.59133674]\n",
      " [ 0.14701809  0.31122986]\n",
      " [ 1.98474425 -0.28010688]\n",
      " [ 0.14701809 -0.49796778]\n",
      " [-1.04750391 -0.34235285]\n",
      " [-1.59882175 -0.52909077]\n",
      " [-1.23127652  0.37347583]\n",
      " [-0.12864083 -0.80919764]\n",
      " [-0.40429975 -1.08930452]\n",
      " [ 1.24965379 -1.02705855]\n",
      " [-0.77184498  0.59133674]\n",
      " [ 0.51456332 -0.52909077]\n",
      " [-0.77184498  0.46684479]\n",
      " [-0.03675452 -1.52502632]\n",
      " [ 0.69833594  1.33828841]\n",
      " [-0.77184498 -0.34235285]\n",
      " [ 0.14701809  0.34235285]\n",
      " [ 1.52531271  0.65358271]\n",
      " [-0.86373129 -1.21379646]\n",
      " [ 1.24965379  0.52909077]\n",
      " [ 1.98474425  1.64951827]\n",
      " [-0.12864083 -1.36941139]\n",
      " [-0.03675452 -0.37347583]\n",
      " [-0.12864083  1.43165737]\n",
      " [ 2.16851686  0.59133674]\n",
      " [ 0.88210855 -1.15155049]\n",
      " [-0.58807237  0.43572181]\n",
      " [-0.86373129  0.34235285]\n",
      " [ 1.24965379 -1.27604243]\n",
      " [-1.13939022 -1.52502632]\n",
      " [-0.31241345 -1.5872723 ]\n",
      " [ 2.26040317 -0.84032063]\n",
      " [-1.50693545  0.2178609 ]\n",
      " [ 0.05513178  0.93368959]\n",
      " [-1.50693545 -1.33828841]\n",
      " [ 2.26040317  0.43572181]\n",
      " [-1.04750391  0.62245972]\n",
      " [-0.77184498 -0.34235285]\n",
      " [ 0.42267702 -0.6847057 ]\n",
      " [ 0.60644963  0.03112299]\n",
      " [-0.31241345  2.52096188]\n",
      " [-0.03675452  0.24898389]\n",
      " [-1.23127652 -0.18673792]\n",
      " [ 0.88210855 -1.46278035]\n",
      " [-0.77184498  0.62245972]\n",
      " [-1.59882175  0.40459882]\n",
      " [ 0.60644963  0.31122986]\n",
      " [ 0.42267702 -0.28010688]\n",
      " [ 1.61719902 -1.08930452]\n",
      " [ 1.06588117  1.18267348]]\n"
     ]
    }
   ],
   "source": [
    "print(X_test)"
   ]
  },
  {
   "cell_type": "code",
   "execution_count": 19,
   "id": "440b96e8",
   "metadata": {},
   "outputs": [],
   "source": [
    "# Fitting KNN classifier to the training set"
   ]
  },
  {
   "cell_type": "code",
   "execution_count": 22,
   "id": "fe5a1982",
   "metadata": {},
   "outputs": [
    {
     "ename": "NameError",
     "evalue": "name 'classifier' is not defined",
     "output_type": "error",
     "traceback": [
      "\u001b[1;31m---------------------------------------------------------------------------\u001b[0m",
      "\u001b[1;31mNameError\u001b[0m                                 Traceback (most recent call last)",
      "\u001b[1;32m<ipython-input-22-a2198c9fb9ed>\u001b[0m in \u001b[0;36m<module>\u001b[1;34m\u001b[0m\n\u001b[0;32m      1\u001b[0m \u001b[1;32mfrom\u001b[0m \u001b[0msklearn\u001b[0m \u001b[1;33m.\u001b[0m\u001b[0mneighbors\u001b[0m \u001b[1;32mimport\u001b[0m \u001b[0mKNeighborsClassifier\u001b[0m\u001b[1;33m\u001b[0m\u001b[1;33m\u001b[0m\u001b[0m\n\u001b[0;32m      2\u001b[0m \u001b[0mclassifer\u001b[0m \u001b[1;33m=\u001b[0m \u001b[0mKNeighborsClassifier\u001b[0m\u001b[1;33m(\u001b[0m\u001b[0mn_neighbors\u001b[0m \u001b[1;33m=\u001b[0m \u001b[1;36m5\u001b[0m\u001b[1;33m)\u001b[0m\u001b[1;33m\u001b[0m\u001b[1;33m\u001b[0m\u001b[0m\n\u001b[1;32m----> 3\u001b[1;33m \u001b[0mclassifier\u001b[0m\u001b[1;33m.\u001b[0m\u001b[0mfit\u001b[0m\u001b[1;33m(\u001b[0m\u001b[0my_train\u001b[0m\u001b[1;33m,\u001b[0m \u001b[0my_test\u001b[0m\u001b[1;33m)\u001b[0m\u001b[1;33m\u001b[0m\u001b[1;33m\u001b[0m\u001b[0m\n\u001b[0m",
      "\u001b[1;31mNameError\u001b[0m: name 'classifier' is not defined"
     ]
    }
   ],
   "source": [
    "from sklearn .neighbors import KNeighborsClassifier\n",
    "classifer = KNeighborsClassifier(n_neighbors = 5)\n",
    "classifier.fit(y_train, y_test)"
   ]
  },
  {
   "cell_type": "code",
   "execution_count": null,
   "id": "12af415b",
   "metadata": {},
   "outputs": [],
   "source": []
  },
  {
   "cell_type": "code",
   "execution_count": null,
   "id": "b4e9368a",
   "metadata": {},
   "outputs": [],
   "source": []
  },
  {
   "cell_type": "code",
   "execution_count": null,
   "id": "fac85ed3",
   "metadata": {},
   "outputs": [],
   "source": []
  }
 ],
 "metadata": {
  "kernelspec": {
   "display_name": "Python 3",
   "language": "python",
   "name": "python3"
  },
  "language_info": {
   "codemirror_mode": {
    "name": "ipython",
    "version": 3
   },
   "file_extension": ".py",
   "mimetype": "text/x-python",
   "name": "python",
   "nbconvert_exporter": "python",
   "pygments_lexer": "ipython3",
   "version": "3.8.8"
  }
 },
 "nbformat": 4,
 "nbformat_minor": 5
}
